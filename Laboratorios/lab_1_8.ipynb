{
 "cells": [
  {
   "cell_type": "markdown",
   "metadata": {},
   "source": [
    "<img src=\"Archivos/miia.jpg\" width=800x>\n",
    "\n",
    "# Laboratorio 1\n",
    "\n",
    "## Desarrollo de una herramienta analítica usando solo Python\n",
    "\n",
    "Este laboratorio busca evaluar las habilidades relacionadas con la primera parte del curso, correspondiente a las primeras tres semanas. Este enunciado estará disponible desde la semana 2 y deberá entregarse al final de la semana 4 en el enlace correspondiente. Su desarrollo corresponde al 30% de la calificación total del curso.\n",
    "\n",
    "Esta actividad responde directamente al segundo objetivo del curso:\n",
    "* Implementar una herramienta analítica que permita responder una pregunta de negocio para un problema sencillo de analítica de datos, utilizando únicamente algorítmica básica en Python.\n",
    "\n",
    "Al desarrollar este laboratorio pondrás a prueba tus habilidades para: \n",
    "1. Leer datos desde archivos.\n",
    "2. Almacenar datos en  estructuras de Python.\n",
    "3. Crear y llamar funciones correctamente.\n",
    "4. Implementar condicionales diferenciando *if*, *elif* y *else*\n",
    "5. Implementar ciclos diferenciando el propósito de *for* y *while*\n",
    "6. Importar paquetes y utilizar sus funciones.\n",
    "\n",
    "**NOTAS:**\n",
    "- Te recomendamos leer por completo el enunciado del laboratorio antes de comenzar, de forma que tengas claro el propósito completo de la actividad, y puedas desarrollar tu solución apuntando a él desde el comienzo.\n"
   ]
  },
  {
   "cell_type": "markdown",
   "metadata": {},
   "source": [
    "## Contexto: exploración del potencial para asignar becas Uniandes\n",
    "La Universidad de los Andes se ha caracterizado por su compromiso con la generación de impacto en la sociedad a través de diferentes programas de becas. Programas como Quiero Estudiar, o Ser Pilo Paga, entre otros, han sido revolucionarios, al permitir que estudiantes de bajos recursos puedan acceder a una de las universidades privadas más importantes del país.\n",
    "\n",
    "Actualmente, la Universidad quiere evaluar el potencial impacto que tendrían algunos programas de *acción afirmativa* para asignación de becas, con base en información demográfica que ha obtenido a través de encuestas. Se cuenta con información respecto a la edad, género, estado civil, estrato socio-económico, región de proveniencia, desempeño académico y nivel de escolaridad de las personas que han respondido encuestas. Los encargados de diseñar el programa saben que utilizar criterios basados en este tipo de variables es un tema sensible, pero es necesario si se quieren focalizar las oportunidades en poblaciones menos representadas.\n",
    "\n",
    "El objetivo de este laboratorio es crear una herramienta computacional que permita a un tomador de decisiones explorar qué efecto podría tener el uso de diferentes reglas para seleccionar la población que sería beneficiaria de las becas. Puntualmente, se espera que, dadas unas reglas de selección (ej.: pertenecer a cierta región, rango de edad, etc.), la herramienta ofrezca información sobre la población potencialmente beneficiada, de forma que exista un sustento al momento de definir las reglas de selección."
   ]
  },
  {
   "cell_type": "markdown",
   "metadata": {},
   "source": [
    "## 1. Obtención e inspección de archivos\n",
    "\n",
    "Los datos de encuestas fueron obtenidos como parte de un trabajo de campo, y por limitaciones tecnológicas, solo se cuenta con la información en archivos de texto plano. Cada archivo corresponde a una de las variables antes mencionadas y se puede garantizar que todos relacionan a las personas encuestadas en el mismo orden (i.e., la primera línea de todos los archivos corresponde a datos de la primera persona encuestada, la segunda línea a la segunda persona, etc.).\n",
    "\n",
    "Los archivos con los que se cuenta son:\n",
    "* *edades.txt*: un archivo ordenado con las edades de cada persona de la población encuestada \n",
    "* *género.txt*: un archivo ordenado con el género de cada persona de la población encuestada \n",
    "* *estado_civil.txt*: un archivo ordenado con el estado civil de cada persona de la población encuestada \n",
    "* *escolaridad.txt*: un archivo ordenado con el nivel de escolaridad de cada persona de la población encuestada \n",
    "* *estrato.txt*: un archivo ordenado con el estrato socio-económico de cada persona de la población encuestada\n",
    "* *region.txt*: un archivo ordenado con la región de proveniencia de cada persona de la población encuestada"
   ]
  },
  {
   "cell_type": "markdown",
   "metadata": {},
   "source": [
    "**Misión 1**\n",
    "\n",
    "Poner en variables de Python la información que está en los archivos listados arriba.\n",
    "\n",
    "* *Versión base*: escribe línea a línea el código necesario para poner en variables de Python la información de cada uno de los archivos.\n",
    "\n",
    "* *Milla extra*: escribe una función que sea capaz de hacer lo anterior para un archivo y úsala en un ciclo para automatizar la lectura de los diferentes archivos."
   ]
  },
  {
   "cell_type": "code",
   "execution_count": 1,
   "metadata": {},
   "outputs": [],
   "source": [
    "# código\n",
    "\n",
    "def txt_to_list(archivo):\n",
    "    arc = open(f\"./Archivos/{archivo}.txt\", \"r\")\n",
    "    lista_arc = arc.read().splitlines()\n",
    "    return lista_arc\n",
    "\n",
    "archivos = ['edad','escolaridad','estado_civil','estrato','genero','promedio','region']\n",
    "\n",
    "for i in archivos:\n",
    "    globals()[i] = txt_to_list(i)"
   ]
  },
  {
   "cell_type": "markdown",
   "metadata": {},
   "source": [
    "**Misión 2**\n",
    "\n",
    "Reportar las principales características en los datos.\n",
    "* *Versión base*: utilizar métricas básicas como conteos o promedios por categorías en los datos.\n",
    "* *Milla extra*: utilizar visualizaciones simples como diagramas de barras, de pastel u otros."
   ]
  },
  {
   "cell_type": "code",
   "execution_count": 2,
   "metadata": {},
   "outputs": [],
   "source": [
    "#Transformación de variables a numéricas\n",
    "\n",
    "edad = [int(x) for x in edad]\n",
    "estrato = [int(x) for x in estrato]\n",
    "promedio = [float(x) for x in promedio]"
   ]
  },
  {
   "cell_type": "code",
   "execution_count": 3,
   "metadata": {},
   "outputs": [],
   "source": [
    "# código\n",
    "\n",
    "# importación de paquetes necesarios\n",
    "import numpy as np\n",
    "import inspect\n",
    "\n",
    "# función que calcula la mediana de una lista de datos numéricos\n",
    "def mediana(poblacion):\n",
    "    return np.median(poblacion)\n",
    "\n",
    "# función que calcula la desviación de una lista de datos numéricos\n",
    "def desviacion(poblacion):\n",
    "    return np.std(poblacion)\n",
    "\n",
    "#Funcion que calcula el conteo de los datos \n",
    "def conteo(poblacion):\n",
    "    dict_unique = {}\n",
    "    poblacion = sorted(poblacion)\n",
    "    for i in list(set(poblacion)):\n",
    "        dict_unique[i] = poblacion.count(i)\n",
    "    return dict_unique\n",
    "\n",
    "#Funcion que calcula la media de los datos numéricos\n",
    "def media(poblacion):\n",
    "    return np.mean(poblacion)\n",
    "\n",
    "def promedio_medio_por_variable(var):\n",
    "    dict_var = {}\n",
    "    for i in set(var):\n",
    "        indices = []\n",
    "        for j in range(len(var)):\n",
    "            if var[j] == i:\n",
    "                indices.append(j)\n",
    "        prom_var = [promedio[k] for k in indices]\n",
    "        dict_var[i] = round(np.mean(prom_var),2)\n",
    "    return dict(sorted(dict_var.items()))\n",
    "\n",
    "#Función que convierte las variables en str\n",
    "def retrieve_name(var):\n",
    "    callers_local_vars = inspect.currentframe().f_back.f_locals.items()\n",
    "    return [var_name for var_name, var_val in callers_local_vars if var_val is var][1]"
   ]
  },
  {
   "cell_type": "code",
   "execution_count": 4,
   "metadata": {},
   "outputs": [
    {
     "name": "stdout",
     "output_type": "stream",
     "text": [
      " el/la mediana de edad es igual a: 49.0.\n",
      " \n",
      " el/la desviacion de edad es igual a: 18.59485133040864.\n",
      " \n",
      " el/la conteo de edad es igual a: {18: 7, 19: 8, 20: 11, 21: 12, 22: 10, 23: 7, 24: 14, 25: 5, 26: 5, 27: 10, 28: 6, 29: 10, 30: 9, 31: 7, 32: 6, 33: 6, 34: 7, 35: 9, 36: 10, 37: 4, 38: 9, 39: 8, 40: 5, 41: 4, 42: 7, 43: 9, 44: 9, 45: 8, 46: 9, 47: 7, 48: 8, 49: 7, 50: 10, 51: 5, 52: 8, 53: 10, 54: 13, 55: 7, 56: 4, 57: 12, 58: 11, 59: 7, 60: 6, 61: 4, 62: 6, 63: 4, 64: 8, 65: 7, 66: 12, 67: 9, 68: 6, 69: 10, 70: 11, 71: 9, 72: 1, 73: 5, 74: 9, 75: 10, 76: 7, 77: 7, 78: 9, 79: 9, 80: 11}.\n",
      " \n",
      " el/la media de edad es igual a: 48.748.\n",
      " \n",
      "no es posible obtener mediana para la variable escolaridad.\n",
      " \n",
      "no es posible obtener desviacion para la variable escolaridad.\n",
      " \n",
      " el/la conteo de escolaridad es igual a: {'Maestria': 15, 'Secundaria': 343, 'Primaria': 25, 'Profesional': 117}.\n",
      " \n",
      "no es posible obtener media para la variable escolaridad.\n",
      " \n",
      " el/la mediana de estrato es igual a: 2.0.\n",
      " \n",
      " el/la desviacion de estrato es igual a: 0.9762868430947945.\n",
      " \n",
      " el/la conteo de estrato es igual a: {1: 111, 2: 185, 3: 156, 4: 35, 5: 13}.\n",
      " \n",
      " el/la media de estrato es igual a: 2.308.\n",
      " \n",
      "no es posible obtener mediana para la variable genero.\n",
      " \n",
      "no es posible obtener desviacion para la variable genero.\n",
      " \n",
      " el/la conteo de genero es igual a: {'otro': 6, 'masculino': 204, 'no binario': 39, 'femenino': 251}.\n",
      " \n",
      "no es posible obtener media para la variable genero.\n",
      " \n",
      " el/la mediana de promedio es igual a: 2.7.\n",
      " \n",
      " el/la desviacion de promedio es igual a: 1.1159169144698902.\n",
      " \n",
      " el/la conteo de promedio es igual a: {0.0: 4, 0.4: 2, 0.3: 3, 0.2: 7, 0.5: 3, 0.6: 5, 0.7: 2, 0.8: 3, 0.9: 7, 1.0: 10, 1.1: 8, 1.5: 8, 2.0: 18, 2.5: 14, 5.0: 2, 3.0: 37, 3.5: 19, 4.0: 14, 4.1: 4, 4.4: 4, 4.5: 4, 4.6: 2, 4.9: 7, 1.6: 5, 2.1: 22, 2.6: 13, 3.1: 18, 3.6: 16, 1.2: 9, 1.7: 7, 0.1: 5, 2.2: 15, 2.3: 15, 2.7: 14, 2.8: 8, 3.2: 14, 3.3: 13, 3.7: 15, 3.8: 11, 4.2: 6, 1.3: 10, 1.8: 10, 4.3: 4, 4.7: 2, 4.8: 4, 1.4: 6, 1.9: 11, 2.4: 18, 2.9: 16, 3.4: 15, 3.9: 11}.\n",
      " \n",
      " el/la media de promedio es igual a: 2.6212.\n",
      " \n",
      "no es posible obtener mediana para la variable region.\n",
      " \n",
      "no es posible obtener desviacion para la variable region.\n",
      " \n",
      " el/la conteo de region es igual a: {'Amazonia': 15, 'Pacifica': 117, 'Orinoquia': 33, 'Andina': 142, 'Caribe': 193}.\n",
      " \n",
      "no es posible obtener media para la variable region.\n",
      " \n"
     ]
    }
   ],
   "source": [
    "lista_variables = [edad,escolaridad,estrato,genero,promedio,region]\n",
    "medida = [mediana,desviacion,conteo, media]\n",
    "\n",
    "for i in lista_variables:\n",
    "    for j in medida:\n",
    "        try:\n",
    "            print(f\" el/la {j.__name__} de {retrieve_name(i)} es igual a: {j(i)}.\")\n",
    "        except:\n",
    "            print(f\"no es posible obtener {str(j.__name__)} para la variable {retrieve_name(i)}.\")\n",
    "        print(' ')"
   ]
  },
  {
   "cell_type": "code",
   "execution_count": 5,
   "metadata": {},
   "outputs": [
    {
     "data": {
      "text/plain": [
       "[Text(0.5, 0, 'promedio')]"
      ]
     },
     "execution_count": 5,
     "metadata": {},
     "output_type": "execute_result"
    },
    {
     "data": {
      "image/png": "[encoded data removed]",
      "text/plain": [
       "<Figure size 1440x1152 with 9 Axes>"
      ]
     },
     "metadata": {
      "needs_background": "light"
     },
     "output_type": "display_data"
    }
   ],
   "source": [
    "import matplotlib.pyplot as plt\n",
    "\n",
    "#Generacion de diagramas de barras para las variables excepto promedio e histograma para promedio\n",
    "fig,ax = plt.subplots(3,3,figsize=(20,16))\n",
    "\n",
    "\n",
    "ax[0,0].bar(conteo(edad).keys(),conteo(edad).values())\n",
    "ax[0,0].set_title('Diagrama de barras de edad')\n",
    "ax[0,0].set(xlabel='edad', ylabel='conteo')\n",
    "ax[0,1].bar(conteo(estrato).keys(),conteo(estrato).values())\n",
    "ax[0,1].set_title('Diagrama de barras de estrato')\n",
    "ax[0,1].set(xlabel='estrato', ylabel='conteo')\n",
    "ax[0,2].bar(conteo(escolaridad).keys(),conteo(escolaridad).values())\n",
    "ax[0,2].set_title('Diagrama de barras de escolaridad')\n",
    "ax[0,2].set(xlabel='escolaridad', ylabel='conteo')\n",
    "ax[1,0].bar(conteo(estado_civil).keys(),conteo(estado_civil).values())\n",
    "ax[1,0].set_title('Diagrama de barras de estado civil')\n",
    "ax[1,0].set(xlabel='estado_civil', ylabel='conteo')\n",
    "ax[1,1].bar(conteo(genero).keys(),conteo(genero).values())\n",
    "ax[1,1].set_title('Diagrama de barras de genero')\n",
    "ax[1,1].set(xlabel='genero', ylabel='conteo')\n",
    "ax[1,2].bar(conteo(region).keys(),conteo(region).values())\n",
    "ax[1,2].set_title('Diagrama de barras de region')\n",
    "ax[1,2].set(xlabel='region', ylabel='conteo')\n",
    "ax[2,1].hist(promedio, bins=30)\n",
    "ax[2,1].set_title('Distribucion del promedio')\n",
    "ax[2,1].set(xlabel='promedio')"
   ]
  },
  {
   "cell_type": "code",
   "execution_count": 6,
   "metadata": {},
   "outputs": [
    {
     "data": {
      "text/plain": [
       "[Text(0.5, 0, 'region'), Text(0, 0.5, 'Promedio')]"
      ]
     },
     "execution_count": 6,
     "metadata": {},
     "output_type": "execute_result"
    },
    {
     "data": {
      "image/png": "[encoded data removed]",
      "text/plain": [
       "<Figure size 1440x720 with 6 Axes>"
      ]
     },
     "metadata": {
      "needs_background": "light"
     },
     "output_type": "display_data"
    }
   ],
   "source": [
    "#Generacion de diagramas de barras para el promedio del promedio de las diferentes variables\n",
    "fig,ax = plt.subplots(2,3,figsize=(20,10))\n",
    "\n",
    "\n",
    "ax[0,0].bar(promedio_medio_por_variable(edad).keys(),promedio_medio_por_variable(edad).values())\n",
    "ax[0,0].set_title('Promedio medio por edad')\n",
    "ax[0,0].set(xlabel='edad', ylabel='Promedio')\n",
    "ax[0,1].bar(promedio_medio_por_variable(estrato).keys(),promedio_medio_por_variable(estrato).values())\n",
    "ax[0,1].set_title('Promedio medio por estrato')\n",
    "ax[0,1].set(xlabel='estrato', ylabel='Promedio')\n",
    "ax[0,2].bar(promedio_medio_por_variable(escolaridad).keys(),promedio_medio_por_variable(escolaridad).values())\n",
    "ax[0,2].set_title('Promedio medio por escolaridad')\n",
    "ax[0,2].set(xlabel='escolaridad', ylabel='Promedio')\n",
    "ax[1,0].bar(promedio_medio_por_variable(estado_civil).keys(),promedio_medio_por_variable(estado_civil).values())\n",
    "ax[1,0].set_title('Promedio medio por estado civil')\n",
    "ax[1,0].set(xlabel='estado_civil', ylabel='Promedio')\n",
    "ax[1,1].bar(promedio_medio_por_variable(genero).keys(),promedio_medio_por_variable(genero).values())\n",
    "ax[1,1].set_title('Promedio medio por genero')\n",
    "ax[1,1].set(xlabel='genero', ylabel='Promedio')\n",
    "ax[1,2].bar(promedio_medio_por_variable(region).keys(),promedio_medio_por_variable(region).values())\n",
    "ax[1,2].set_title('Promedio medio por region')\n",
    "ax[1,2].set(xlabel='region', ylabel='Promedio')"
   ]
  },
  {
   "cell_type": "markdown",
   "metadata": {},
   "source": [
    "## 2. Abordaje de la pregunta de negocio\n",
    "\n",
    "El comité encargado de diseñar el programa de becas ha tenido dificultades para llegar a acuerdos. Algunos piensan que el criterio principal de selección debería ser respecto a lo económico y académico, sin importar otras características personales, mientras que otros piensan que considerar estas características es, de hecho, parte del espíritu del programa.\n",
    "\n",
    "* El primer grupo sugiere que se deben tomar en orden ascendente los estratos y elegir, en cada uno de ellos, al 2% de personas con promedio académico superior en esa sub-población, hasta que se agoten las becas disponibles. En caso de quedar becas disponibles al final del proceso, se repite el mismo esquema, considerando que ya no se tienen en cuenta las personas que hayan sido elegidas en rondas anteriores.\n",
    "\n",
    "* El segundo grupo sugiere que los recibidores de becas deben estar igualmente distribuidos entre las diferentes regiones y generos, considerando, por supuesto, que para cada una de esas sub-poblaciones, las personas elegidas sean las de mejores promedios académicos.\n",
    "\n",
    "Dado que las diferencias entre estos grupos obedecen a su entendimiento particular del problema, el presidente del comité propone utilizar los datos disponibles de las encuestas, sugiriendo que se analice qué características tendría la población de elegidos bajo cada uno de los dos criterios expuestos."
   ]
  },
  {
   "cell_type": "markdown",
   "metadata": {},
   "source": [
    "**Misión 3**\n",
    "\n",
    "Defina la pregunta de negocio y la pregunta de *analytics* para esta situación."
   ]
  },
  {
   "cell_type": "code",
   "execution_count": 7,
   "metadata": {},
   "outputs": [],
   "source": [
    "# respuesta en texto (solo leeremos los primeros 300 caracteres de la respuesta)\n",
    "\n",
    "pregunta_negocio = 'Entre los dos métodos a evaluar, ¿Cuál es el mejor según las características de la población resultante?'\n",
    "\n",
    "pregunta_analytics = 'Realizar funciones y evaluar para diferentes rangos de numeros de becas las poblaciones becadas resultantes. Adicionalmente, si es posible, evaluar con estadística descriptiva cuál de las dos metodologías puede tener un mayor impacto social'"
   ]
  },
  {
   "cell_type": "markdown",
   "metadata": {},
   "source": [
    "**Misión 4**\n",
    "\n",
    "Desarrollar un algoritmo que permita conocer la población que sería becada según los criterios propuestos por el *primer grupo* mencionado arriba."
   ]
  },
  {
   "cell_type": "code",
   "execution_count": 8,
   "metadata": {},
   "outputs": [],
   "source": [
    "# código\n",
    "import math\n",
    "#Crear un diccionario con las variables para cada persona\n",
    "\n",
    "dict_per = {}\n",
    "for i in range(len(promedio)):\n",
    "    dict_per[i] = [edad[i],escolaridad[i],estado_civil[i],estrato[i],genero[i],promedio[i],region[i]]\n",
    "\n",
    "def becados_estrato(numero_becas):\n",
    "    #inicializar la lista de becados\n",
    "    becados = []\n",
    "\n",
    "    if len(promedio) >= numero_becas:\n",
    "        while len(becados) < numero_becas:\n",
    "            for i in sorted(set(estrato)):\n",
    "\n",
    "                #Se obtienen todos los valores con estrato i que no hayan sido asignados ya y se ordenan\n",
    "                posibles = {k: v for k, v in dict_per.items() if v[3] == i and k not in becados}\n",
    "                posibles_ordenados = {k: v for k, v in sorted(posibles.items(), key=lambda item: item[1][5], reverse=True)}\n",
    "\n",
    "                #Se obtiene la longitud posible en este estrato y se limita el diccionario a esta longitud\n",
    "                if math.floor(len(posibles_ordenados)*0.02)  == 0:\n",
    "                    longitud = 1\n",
    "                else:\n",
    "                    longitud = math.floor(len(posibles_ordenados)*0.02) \n",
    "                posibles_ordenados = dict(list(posibles_ordenados.items())[0:longitud])\n",
    "\n",
    "                #Se asignan las becas si aun no se han completado los números de becas\n",
    "                for j in posibles_ordenados.keys():\n",
    "                    if len(becados) < numero_becas:\n",
    "                        becados.append(j)\n",
    "    else:\n",
    "        print('Existen más becas que número de aspirantes. Todos obtienen becas')\n",
    "    print(f'los becados para {numero_becas} becas disponibles son:')\n",
    "    return {k: v for k, v in dict_per.items() if k in becados}"
   ]
  },
  {
   "cell_type": "code",
   "execution_count": 9,
   "metadata": {},
   "outputs": [
    {
     "name": "stdout",
     "output_type": "stream",
     "text": [
      "los becados para 20 becas disponibles son:\n"
     ]
    },
    {
     "data": {
      "text/plain": [
       "{7: [54, 'Secundaria', 'casada', 2, 'femenino', 4.9, 'Andina'],\n",
       " 9: [80, 'Profesional', 'soltera', 3, 'masculino', 4.5, 'Andina'],\n",
       " 49: [20, 'Secundaria', 'soltera', 3, 'masculino', 4.5, 'Amazonia'],\n",
       " 53: [58, 'Secundaria', 'casada', 4, 'femenino', 3.9, 'Caribe'],\n",
       " 60: [75, 'Primaria', 'casada', 3, 'femenino', 4.9, 'Caribe'],\n",
       " 99: [64, 'Secundaria', 'viuda', 5, 'femenino', 3.4, 'Orinoquia'],\n",
       " 109: [60, 'Profesional', 'soltera', 3, 'femenino', 4.7, 'Pacifica'],\n",
       " 137: [70, 'Profesional', 'divorciada', 2, 'femenino', 4.8, 'Andina'],\n",
       " 159: [55, 'Profesional', 'soltera', 3, 'masculino', 4.6, 'Caribe'],\n",
       " 162: [47, 'Secundaria', 'casada', 1, 'masculino', 4.9, 'Andina'],\n",
       " 207: [21, 'Profesional', 'casada', 2, 'femenino', 4.9, 'Andina'],\n",
       " 243: [59, 'Secundaria', 'divorciada', 2, 'femenino', 5.0, 'Caribe'],\n",
       " 259: [60, 'Secundaria', 'soltera', 5, 'no binario', 4.8, 'Andina'],\n",
       " 283: [28, 'Secundaria', 'divorciada', 1, 'no binario', 4.8, 'Andina'],\n",
       " 363: [32, 'Secundaria', 'casada', 1, 'femenino', 4.9, 'Pacifica'],\n",
       " 376: [69, 'Secundaria', 'soltera', 1, 'masculino', 5.0, 'Pacifica'],\n",
       " 394: [69, 'Profesional', 'divorciada', 4, 'masculino', 4.8, 'Andina'],\n",
       " 471: [21, 'Secundaria', 'soltera', 3, 'masculino', 4.9, 'Pacifica'],\n",
       " 478: [27, 'Secundaria', 'casada', 2, 'femenino', 4.6, 'Amazonia'],\n",
       " 491: [59, 'Profesional', 'casada', 2, 'masculino', 4.9, 'Caribe']}"
      ]
     },
     "execution_count": 9,
     "metadata": {},
     "output_type": "execute_result"
    }
   ],
   "source": [
    "becados_estrato(20)"
   ]
  },
  {
   "cell_type": "markdown",
   "metadata": {},
   "source": [
    "**Misión 5**\n",
    "\n",
    "Desarrollar un algoritmo que permita conocer la población que sería becada según los criterios propuestos por el *segundo grupo* mencionado arriba."
   ]
  },
  {
   "cell_type": "code",
   "execution_count": 10,
   "metadata": {},
   "outputs": [],
   "source": [
    "# código\n",
    "\n",
    "def becados_region_genero(numero_becas):\n",
    "    #Asignar el numero de becas a dar\n",
    "    becados = []\n",
    "\n",
    "    #Se observan todas las posibles combinaciones entre region y género y se asignan a una variable\n",
    "    lista_duplas = []\n",
    "    for i in range(len(region)):\n",
    "        lista_duplas.append((region[i],genero[i]))\n",
    "\n",
    "    posibles_combinaciones = len(set(lista_duplas))\n",
    "\n",
    "    #Se asigna el número de becas por combinación entre region y genero. \n",
    "    if numero_becas%posibles_combinaciones == 0:\n",
    "        numero_becas_x = int(numero_becas/posibles_combinaciones)\n",
    "\n",
    "        # Se recorre cada region posible\n",
    "        for i in set(region):\n",
    "            posibles_x_region = {k: v for k, v in dict_per.items() if v[6] == i}\n",
    "            genero_x_region = set([x[1] for x in lista_duplas if i in x[0]])\n",
    "\n",
    "            #De la region i se recorre cada genero que existe en la region y se ordenan los valores de mayor promedio a menor\n",
    "            #para cada posible combinacion de region-genero\n",
    "            for j in genero_x_region:\n",
    "                posible_combinacion = {k: v for k, v in posibles_x_region.items() if v[4] == j}\n",
    "                posible_combinacion = {k: v for k, v in sorted(posible_combinacion.items(), key=lambda item: item[1][5], reverse=True)}\n",
    "\n",
    "                #se limita el diccionario de posibles al numero de becas por dupla region-genero\n",
    "                if numero_becas_x <= len(posible_combinacion):\n",
    "                    posible_combinacion = dict(list(posible_combinacion.items())[0:numero_becas_x])\n",
    "                    for l in posible_combinacion.keys():\n",
    "                        becados.append(l)\n",
    "                else:\n",
    "                    print(f'no hay suficientes personas del genero {j} en la region {i} para asignar el numero de becas requeridas')\n",
    "                    print(f'se asignan {len(posible_combinacion)} becas al género {j} en la región {i}')\n",
    "                    for l in posible_combinacion.keys():\n",
    "                        becados.append(l)\n",
    "    else:\n",
    "        print(f'No es posible asignar {numero_becas} becas a todos por igual, se recomienda asignar becas en un número múltiplo de {posibles_combinaciones}')\n",
    "        numero_becas_x = int(math.floor(numero_becas/posibles_combinaciones))\n",
    "        # Se recorre cada region posible\n",
    "        for i in set(region):\n",
    "            posibles_x_region = {k: v for k, v in dict_per.items() if v[6] == i}\n",
    "            genero_x_region = set([x[1] for x in lista_duplas if i in x[0]])\n",
    "\n",
    "            #De la region i se recorre cada genero que existe en la region y se ordenan los valores de mayor promedio a menor\n",
    "            #para cada posible combinacion de region-genero\n",
    "            for j in genero_x_region:\n",
    "                posible_combinacion = {k: v for k, v in posibles_x_region.items() if v[4] == j}\n",
    "                posible_combinacion = {k: v for k, v in sorted(posible_combinacion.items(), key=lambda item: item[1][5], reverse=True)}\n",
    "\n",
    "                #se limita el diccionario de posibles al numero de becas por dupla region-genero\n",
    "                if numero_becas_x <= len(posible_combinacion):\n",
    "                    posible_combinacion = dict(list(posible_combinacion.items())[0:numero_becas_x])\n",
    "                    for l in posible_combinacion.keys():\n",
    "                        becados.append(l)\n",
    "                else:\n",
    "                    print(f'no hay suficientes personas del genero {j} en la region {i} para asignar el numero de becas requeridas')\n",
    "                    print(f'se asignan {len(posible_combinacion)} becas al género {j} en la región {i}')\n",
    "                    for l in posible_combinacion.keys():\n",
    "                        becados.append(l)\n",
    "    print(f'los {len(becados)} becados para {numero_becas} becas disponibles son:')\n",
    "    return {k: v for k, v in sorted(dict_per.items(), key=lambda item: item[1][6], reverse=True) if k in becados}"
   ]
  },
  {
   "cell_type": "code",
   "execution_count": 11,
   "metadata": {},
   "outputs": [
    {
     "name": "stdout",
     "output_type": "stream",
     "text": [
      "los 18 becados para 18 becas disponibles son:\n"
     ]
    },
    {
     "data": {
      "text/plain": [
       "{361: [73, 'Profesional', 'divorciada', 1, 'no binario', 4.0, 'Pacifica'],\n",
       " 363: [32, 'Secundaria', 'casada', 1, 'femenino', 4.9, 'Pacifica'],\n",
       " 376: [69, 'Secundaria', 'soltera', 1, 'masculino', 5.0, 'Pacifica'],\n",
       " 4: [26, 'Secundaria', 'divorciada', 2, 'otro', 2.1, 'Orinoquia'],\n",
       " 113: [57, 'Profesional', 'divorciada', 2, 'femenino', 3.9, 'Orinoquia'],\n",
       " 422: [50, 'Secundaria', 'soltera', 1, 'masculino', 4.2, 'Orinoquia'],\n",
       " 22: [51, 'Secundaria', 'casada', 2, 'no binario', 4.3, 'Caribe'],\n",
       " 136: [60, 'Secundaria', 'soltera', 2, 'otro', 3.6, 'Caribe'],\n",
       " 243: [59, 'Secundaria', 'divorciada', 2, 'femenino', 5.0, 'Caribe'],\n",
       " 491: [59, 'Profesional', 'casada', 2, 'masculino', 4.9, 'Caribe'],\n",
       " 7: [54, 'Secundaria', 'casada', 2, 'femenino', 4.9, 'Andina'],\n",
       " 162: [47, 'Secundaria', 'casada', 1, 'masculino', 4.9, 'Andina'],\n",
       " 259: [60, 'Secundaria', 'soltera', 5, 'no binario', 4.8, 'Andina'],\n",
       " 373: [34, 'Secundaria', 'soltera', 3, 'otro', 2.4, 'Andina'],\n",
       " 49: [20, 'Secundaria', 'soltera', 3, 'masculino', 4.5, 'Amazonia'],\n",
       " 195: [75, 'Secundaria', 'casada', 4, 'otro', 3.1, 'Amazonia'],\n",
       " 375: [21, 'Secundaria', 'casada', 3, 'no binario', 1.5, 'Amazonia'],\n",
       " 478: [27, 'Secundaria', 'casada', 2, 'femenino', 4.6, 'Amazonia']}"
      ]
     },
     "execution_count": 11,
     "metadata": {},
     "output_type": "execute_result"
    }
   ],
   "source": [
    "becados_region_genero(18)"
   ]
  },
  {
   "cell_type": "markdown",
   "metadata": {},
   "source": [
    "**Misión 6**\n",
    "\n",
    "Desarrollar un algoritmo, a partir de lo anterior, cuyo resultado permita al comité comparar fácilmente las características de las dos poblaciones hipotéticas que recibirían becas.\n",
    "\n",
    "*Ayuda*: considera utilizar tus implementaciones de la *Misión 2* para facilitar esta misión."
   ]
  },
  {
   "cell_type": "code",
   "execution_count": 12,
   "metadata": {},
   "outputs": [],
   "source": [
    "# código\n",
    "\n",
    "def get_statistics(d):\n",
    "    \"\"\"\n",
    "    Con el input de la herramienta, obtiene las estadísticas básicas de la población elegida según la herramienta\n",
    "    \"\"\"\n",
    "    if type(d) == str:\n",
    "        return d\n",
    "    else:\n",
    "        edades = [v[0] for k, v in d.items()]\n",
    "        escolaridades = [v[1] for k, v in d.items()]\n",
    "        estados_civiles = [v[2] for k, v in d.items()]\n",
    "        estratos = [v[3] for k, v in d.items()]\n",
    "        generos = [v[4] for k, v in d.items()]\n",
    "        promedios = [v[5] for k, v in d.items()]\n",
    "        regiones = [v[6] for k, v in d.items()]\n",
    "\n",
    "        print(f'la cantidad de becas asignadas fue de {len(d)}')\n",
    "        print('')\n",
    "        promedio_edades = math.floor(np.mean(edades))\n",
    "        print(f'la media de edad es: {promedio_edades}')\n",
    "        promedio_medias = np.mean(promedios)\n",
    "        print(f'la media de promedios es: {promedio_medias}')\n",
    "        print(f'la media de promedios de los generos es: {promedio_medio_por_variable(generos)}')\n",
    "        print(f'la media de promedios de los estratos es: {promedio_medio_por_variable(estratos)}')\n",
    "        print(f'la media de promedios de los estados civiles es: {promedio_medio_por_variable(estados_civiles)}')\n",
    "        print(f'la media de promedios de la escolaridad es: {promedio_medio_por_variable(escolaridades)}')\n",
    "        print(f'la media de promedios de las regiones es: {promedio_medio_por_variable(regiones)}')\n",
    "        print('')\n",
    "        print(f'El conteo de estratos es: {conteo(estratos)}')\n",
    "        print(f'El conteo de estado civil es: {conteo(estados_civiles)}')\n",
    "        print(f'El conteo de generos es: {conteo(generos)}')\n",
    "        print(f'El conteo de escolaridad es: {conteo(escolaridades)}')\n",
    "        print(f'El conteo de regiones es: {conteo(regiones)}')"
   ]
  },
  {
   "cell_type": "code",
   "execution_count": 13,
   "metadata": {},
   "outputs": [
    {
     "name": "stdout",
     "output_type": "stream",
     "text": [
      "los 18 becados para 18 becas disponibles son:\n",
      "la cantidad de becas asignadas fue de 18\n",
      "\n",
      "la media de edad es: 48\n",
      "la media de promedios es: 4.033333333333333\n",
      "la media de promedios de los generos es: {'femenino': 2.4, 'masculino': 2.78, 'no binario': 2.4, 'otro': 2.22}\n",
      "la media de promedios de los estratos es: {1: 2.3, 2: 3.16, 3: 1.33, 4: 0.1, 5: 3.5}\n",
      "la media de promedios de los estados civiles es: {'casada': 2.39, 'divorciada': 2.17, 'soltera': 2.77}\n",
      "la media de promedios de la escolaridad es: {'Profesional': 3.0, 'Secundaria': 2.36}\n",
      "la media de promedios de las regiones es: {'Amazonia': 1.55, 'Andina': 2.82, 'Caribe': 3.55, 'Orinoquia': 2.07, 'Pacifica': 2.17}\n",
      "\n",
      "El conteo de estratos es: {1: 5, 2: 8, 3: 3, 4: 1, 5: 1}\n",
      "El conteo de estado civil es: {'casada': 8, 'soltera': 6, 'divorciada': 4}\n",
      "El conteo de generos es: {'otro': 4, 'masculino': 5, 'no binario': 4, 'femenino': 5}\n",
      "El conteo de escolaridad es: {'Secundaria': 15, 'Profesional': 3}\n",
      "El conteo de regiones es: {'Amazonia': 4, 'Pacifica': 3, 'Orinoquia': 3, 'Andina': 4, 'Caribe': 4}\n"
     ]
    }
   ],
   "source": [
    "get_statistics(becados_region_genero(18))"
   ]
  },
  {
   "cell_type": "code",
   "execution_count": 14,
   "metadata": {},
   "outputs": [
    {
     "name": "stdout",
     "output_type": "stream",
     "text": [
      "los becados para 18 becas disponibles son:\n",
      "la cantidad de becas asignadas fue de 18\n",
      "\n",
      "la media de edad es: 50\n",
      "la media de promedios es: 4.800000000000001\n",
      "la media de promedios de los generos es: {'femenino': 2.46, 'masculino': 2.34, 'no binario': 3.0}\n",
      "la media de promedios de los estratos es: {1: 3.3, 2: 2.65, 3: 1.85, 4: 1.2, 5: 3.0}\n",
      "la media de promedios de los estados civiles es: {'casada': 2.84, 'divorciada': 2.68, 'soltera': 1.97}\n",
      "la media de promedios de la escolaridad es: {'Primaria': 2.1, 'Profesional': 2.13, 'Secundaria': 2.74}\n",
      "la media de promedios de las regiones es: {'Amazonia': 2.1, 'Andina': 2.44, 'Caribe': 3.3, 'Pacifica': 1.87}\n",
      "\n",
      "El conteo de estratos es: {1: 4, 2: 6, 3: 6, 4: 1, 5: 1}\n",
      "El conteo de estado civil es: {'casada': 7, 'soltera': 7, 'divorciada': 4}\n",
      "El conteo de generos es: {'masculino': 8, 'no binario': 2, 'femenino': 8}\n",
      "El conteo de escolaridad es: {'Secundaria': 10, 'Primaria': 1, 'Profesional': 7}\n",
      "El conteo de regiones es: {'Amazonia': 2, 'Andina': 8, 'Pacifica': 4, 'Caribe': 4}\n"
     ]
    }
   ],
   "source": [
    "get_statistics(becados_estrato(18))"
   ]
  },
  {
   "cell_type": "markdown",
   "metadata": {},
   "source": [
    "## 3. Desarrollo de una solución analítica\n",
    "\n",
    "Reconociendo la complejidad de este problema (que no permite reducirlo a una dicotomía) y viendo el potencial del análisis de datos para enriquecer la discusión y los insumos para tomar decisiones, el comité ha solicitado una herramienta analítica que les permita . Sus requerimientos son:\n",
    "\n",
    "* La herramienta debe permitir ingresar una política de selección de becados.\n",
    "    * Se debe poder elegir el rango de edad de los aspirantes.\n",
    "    * Se debe poder elegir qué proporción de las becas se asigna a cada género, a cada estrato, o a cada región (pero sólo debe elegirse uno de estos criterios).\n",
    "* La herramienta debe generar un resultado que permita al comité analizar las características de la población potencialmente elegida si se usara la política ingresada.\n",
    "\n",
    "**Misión 7**\n",
    "\n",
    "Desarrollar, a partir de lo construido hasta el momento, un algoritmo que permita cumplir con los requerimientos del comité."
   ]
  },
  {
   "cell_type": "code",
   "execution_count": 15,
   "metadata": {},
   "outputs": [],
   "source": [
    "# código\n",
    "\n",
    "#Se deben seleccionar la proporción de becas en los siguientes diccionarios según el criterio que se quiera tener en cuenta.\n",
    "\n",
    "dict_genero = {'masculino':0.25,\n",
    "              'femenino':0.25,\n",
    "              'no binario':0.25,\n",
    "              'otro':0.25}\n",
    "\n",
    "dict_estrato = {1:0.2,\n",
    "               2:0.2,\n",
    "               3:0.2,\n",
    "               4:0.2,\n",
    "               5:0.2}\n",
    "\n",
    "dict_region = {'Andina':0.2,\n",
    "              'Amazonia':0.2,\n",
    "              'Caribe':0.2,\n",
    "              'Orinoquia':0.2,\n",
    "              'Pacifica':0.2}\n",
    "\n",
    "#Herramienta de becados.\n",
    "def herramienta_becados(n_becas = 20,lim_inf=20, lim_sup=80, criterio='genero'):\n",
    "    \"\"\"\n",
    "    Esta es una función que permite determinar cuáles serían los becados segun un limite de edad y un criterio\n",
    "    de variables a tener en cuenta.\n",
    "    \n",
    "    Parámetros:\n",
    "    n_becas: Número de becas máximo a asignar. int\n",
    "    lim_inf: Límite inferior de edad. int\n",
    "    lim_sup: Límite superior de edad. int\n",
    "    criterio: Criterio bajo el cual se elegirán los becados. Puede ser 'genero', 'estrato' o 'region'. str\n",
    "    \"\"\"\n",
    "    \n",
    "    #Se hace un diccionario que solo tiene en cuenta los rangos de edades puestos en la función\n",
    "    dict_limpio = {k: v for k, v in dict_per.items() if v[0] >= lim_inf and v[0] <= lim_sup}\n",
    "    becados = []\n",
    "    #Se separa por criterios. El primero es estrato.\n",
    "    if criterio == 'estrato':\n",
    "        #Si la suma no es 100%, no se asignan becas.\n",
    "        if round(sum(dict_estrato.values()),1) != 1.0:\n",
    "            return f'La proporcion no es igual al 100%. Por favor revisar las proporciones imputadas'\n",
    "        elif n_becas < len(dict_estrato):\n",
    "            return f'El numero de becas debe ser mayor a la cantidad de estratos'\n",
    "        else:\n",
    "            #Si la suma es 100%, se recorre cada estrato y se le da la proporción de becas definida\n",
    "            for i in set(estrato):\n",
    "                n_becas_x = math.floor(dict_estrato[i]*n_becas)\n",
    "                posibles = {k: v for k, v in dict_limpio.items() if v[3] == i}\n",
    "                posibles = {k: v for k, v in sorted(posibles.items(), key=lambda item: item[1][5], reverse=True)}\n",
    "                if len(posibles) < n_becas_x:\n",
    "                    print(f'no se pueden asignar {n_becas_x} becas al estrato {i}')\n",
    "                    for i in posibles.keys():\n",
    "                        becados.append(i)\n",
    "                else:\n",
    "                    posibles = dict(list(posibles.items())[0:n_becas_x])\n",
    "                    for i in posibles.keys():\n",
    "                        becados.append(i)                 \n",
    "            return {k: v for k, v in dict_per.items() if k in becados}\n",
    "    \n",
    "    if criterio == 'genero':\n",
    "        #Si la suma no es 100%, no se asignan becas.\n",
    "        if round(sum(dict_genero.values()),1) != 1.0:\n",
    "            return f'La proporcion no es igual al 100%. Por favor revisar las proporciones imputadas'\n",
    "        elif n_becas < len(dict_genero):\n",
    "            return f'El numero de becas debe ser mayor a la cantidad de generos'\n",
    "        else:\n",
    "            #Si la suma es 100%, se recorre cada estrato y se le da la proporción de becas definida\n",
    "            for i in set(genero):\n",
    "                n_becas_x = math.floor(dict_genero[i]*n_becas)\n",
    "                posibles = {k: v for k, v in dict_limpio.items() if v[4] == i}\n",
    "                posibles = {k: v for k, v in sorted(posibles.items(), key=lambda item: item[1][5], reverse=True)}\n",
    "                if len(posibles) < n_becas_x:\n",
    "                    print(f'no se pueden asignar {n_becas_x} becas al genero {i}')\n",
    "                    for i in posibles.keys():\n",
    "                        becados.append(i)\n",
    "                else:\n",
    "                    posibles = dict(list(posibles.items())[0:n_becas_x])\n",
    "                    for i in posibles.keys():\n",
    "                        becados.append(i)                 \n",
    "            return {k: v for k, v in dict_per.items() if k in becados}\n",
    "\n",
    "    if criterio == 'region':\n",
    "        #Si la suma no es 100%, no se asignan becas.\n",
    "        if round(sum(dict_region.values()),1) != 1.0:\n",
    "            return f'La proporcion no es igual al 100%. Por favor revisar las proporciones imputadas'\n",
    "        elif n_becas < len(dict_region):\n",
    "            return f'El numero de becas debe ser mayor a la cantidad de regiones'\n",
    "        else:\n",
    "            #Si la suma es 100%, se recorre cada estrato y se le da la proporción de becas definida\n",
    "            for i in set(region):\n",
    "                n_becas_x = math.floor(dict_region[i]*n_becas)\n",
    "                posibles = {k: v for k, v in dict_limpio.items() if v[6] == i}\n",
    "                posibles = {k: v for k, v in sorted(posibles.items(), key=lambda item: item[1][5], reverse=True)}\n",
    "                if len(posibles) < n_becas_x:\n",
    "                    print(f'no se pueden asignar {n_becas_x} becas a la region {i}')\n",
    "                    for i in posibles.keys():\n",
    "                        becados.append(i)\n",
    "                else:\n",
    "                    posibles = dict(list(posibles.items())[0:n_becas_x])\n",
    "                    for i in posibles.keys():\n",
    "                        becados.append(i)                 \n",
    "            return {k: v for k, v in dict_per.items() if k in becados}"
   ]
  },
  {
   "cell_type": "code",
   "execution_count": 16,
   "metadata": {},
   "outputs": [
    {
     "name": "stdout",
     "output_type": "stream",
     "text": [
      "la cantidad de becas asignadas fue de 10\n",
      "\n",
      "la media de edad es: 47\n",
      "la media de promedios es: 4.69\n",
      "la media de promedios de los generos es: {'femenino': 2.15, 'masculino': 3.05}\n",
      "la media de promedios de los estratos es: {1: 2.92, 2: 2.78, 3: 2.05}\n",
      "la media de promedios de los estados civiles es: {'casada': 2.62, 'divorciada': 2.65, 'soltera': 2.83}\n",
      "la media de promedios de la escolaridad es: {'Profesional': 4.5, 'Secundaria': 2.49}\n",
      "la media de promedios de las regiones es: {'Amazonia': 1.5, 'Andina': 2.25, 'Caribe': 3.3, 'Orinoquia': 4.05, 'Pacifica': 2.35}\n",
      "\n",
      "El conteo de estratos es: {1: 4, 2: 4, 3: 2}\n",
      "El conteo de estado civil es: {'casada': 5, 'soltera': 3, 'divorciada': 2}\n",
      "El conteo de generos es: {'masculino': 6, 'femenino': 4}\n",
      "El conteo de escolaridad es: {'Secundaria': 9, 'Profesional': 1}\n",
      "El conteo de regiones es: {'Amazonia': 2, 'Pacifica': 2, 'Orinoquia': 2, 'Andina': 2, 'Caribe': 2}\n"
     ]
    }
   ],
   "source": [
    "#Herramienta:\n",
    "\n",
    "get_statistics(herramienta_becados(n_becas=10,lim_inf=20,lim_sup=70,criterio='region'))"
   ]
  },
  {
   "cell_type": "markdown",
   "metadata": {},
   "source": [
    "**Misión 8**\n",
    "\n",
    "Proponer, con base en tu propio uso de la herramienta, una política de ingreso que consideres apropiada dado el contexto proporcionado. Si lo crees adecuado, explica, máximo 500 caracteres, las virtudes de tu propuesta (esto puede estar soportado en los datos, o no)."
   ]
  },
  {
   "cell_type": "code",
   "execution_count": 17,
   "metadata": {},
   "outputs": [],
   "source": [
    "# respuesta en texto (solo leeremos los primeros 300 caracteres de la respuesta)\n",
    "\n",
    "respuesta = 'Creo que la herramienta se debería basar más en los estratos que en cualquier otro factor, debido a que, dado que los estratos son directamente proporcionales al nivel de capacidad económica de las personas, los que más suelen necesitar de este tipo de becas son los estratos bajos. En este caso, yo propondría utilizar esta herramienta con esta variable y con una proporción mucho más alta en los niveles socioeconómicos más bajos que en los altos. Basado en los datos de los diagramas de barras de los estratos y los puntajes medios, propondría darles más peso a los estratos 2 y 1, seguido del 3 y 5 y por último el 4, que es el que tiene menor promedio medio entre todos los estratos. Adicionalmente, propondría que los límites de edad estuvieran entre 20 y 40 años debido a que, primero que todo, esta es la población que más representaría un potencial crecimiento social y económico del país puesto que estas personas son las que tienen más potencial para aprovechar al máximo sus estudios, y segundo, la media del promedio académico es una de las más altas según los datos proporcionados en la misión dos.'"
   ]
  },
  {
   "cell_type": "markdown",
   "metadata": {},
   "source": [
    "**Misión 9**\n",
    "\n",
    "Ejecutar el algoritmo desarrollado en la *Misión 7* sobre la política que sugieres proponer al comité. Explicar claramente tus conlusiones con el soporte de los resultados de la herramienta."
   ]
  },
  {
   "cell_type": "code",
   "execution_count": 18,
   "metadata": {},
   "outputs": [
    {
     "name": "stdout",
     "output_type": "stream",
     "text": [
      "la cantidad de becas asignadas fue de 20\n",
      "\n",
      "la media de edad es: 26\n",
      "la media de promedios es: 4.085\n",
      "la media de promedios de los generos es: {'femenino': 2.56, 'masculino': 2.25, 'no binario': 3.5}\n",
      "la media de promedios de los estratos es: {1: 3.08, 2: 1.89, 3: 3.05, 4: 2.1, 5: 2.4}\n",
      "la media de promedios de los estados civiles es: {'casada': 2.15, 'divorciada': 2.54, 'soltera': 3.07, 'viuda': 2.0}\n",
      "la media de promedios de la escolaridad es: {'Profesional': 1.8, 'Secundaria': 2.75}\n",
      "la media de promedios de las regiones es: {'Amazonia': 3.1, 'Andina': 2.27, 'Caribe': 3.02, 'Orinoquia': 2.1, 'Pacifica': 2.33}\n",
      "\n",
      "El conteo de estratos es: {1: 8, 2: 8, 3: 2, 4: 1, 5: 1}\n",
      "El conteo de estado civil es: {'viuda': 1, 'casada': 8, 'soltera': 6, 'divorciada': 5}\n",
      "El conteo de generos es: {'masculino': 6, 'no binario': 1, 'femenino': 13}\n",
      "El conteo de escolaridad es: {'Secundaria': 15, 'Profesional': 5}\n",
      "El conteo de regiones es: {'Amazonia': 2, 'Pacifica': 7, 'Orinoquia': 1, 'Andina': 6, 'Caribe': 4}\n"
     ]
    }
   ],
   "source": [
    "# código\n",
    "dict_estrato = {1:0.4,\n",
    "               2:0.4,\n",
    "               3:0.1,\n",
    "               4:0.05,\n",
    "               5:0.05}\n",
    "\n",
    "get_statistics(herramienta_becados(n_becas=20,lim_inf=20,lim_sup=40,criterio='estrato'))\n",
    "\n",
    "conclusion = 'Se puede observar que el promedio de edad de 26 años es lo esperado. Adicionalmente, se puede ver que se toma una buena decisión al priorizar los géneros debido a que no hay una diferencia muy elevada entre las medias del género femenino y masculino. A pesar de haber una diferencia alta entre el género no binario y los demás, se puede observar que esto es a causa de que solo hay una persona no binaria entre los escogidos, por lo que la media de los otros géneros tiene asociada una desviación estándar que probablemente esté causando esas grandes diferencias entre la media. Adicionalmente, se puede observar que el conteo de regiones sí es indicativo de que estos estratos y puntajes promedio deben estar ligados de alguna manera con las regiones del pais, lo cual indica la necesidad de un estudio más complejo para entender la relación entre estas variables. Adicionalmente, se puede observar que la escolaridad es la esperada por el rango de fechas que se escogió, se puede observar solamente la presencia de profesionales y de grado secundaria, lo cual refuerza la teoría de que se podrá sacar más provecho de estas becas en estos rangos de edad.'"
   ]
  },
  {
   "cell_type": "markdown",
   "metadata": {},
   "source": [
    "## Referencias\n",
    "* Discriminación Positiva<br> \n",
    "https://es.wikipedia.org/wiki/Discriminaci%C3%B3n_positiva\n",
    "* Análisis de formulación del programa “Ser Pilo Paga”<br>\n",
    "https://repository.urosario.edu.co/handle/10336/12526\n",
    "* La acción afirmativa en la Universidad de los Andes: El caso del programa \"Oportunidades para talentos nacionales\"<br> http://www.scielo.org.co/scielo.php?script=sci_arttext&pid=S0123-885X2004000300005\n",
    "* Acción afirmativa y equidad: un análisis desde la propuesta de Thomas Nagel<br>\n",
    "http://www.scielo.org.mx/scielo.php?script=sci_arttext&pid=S2007-24062016000200049"
   ]
  },
  {
   "cell_type": "markdown",
   "metadata": {},
   "source": [
    "## Créditos"
   ]
  },
  {
   "cell_type": "markdown",
   "metadata": {},
   "source": [
    "Camilo Gómez - 11/06/21<br>\n",
    "*Revisado*: 25/08/21"
   ]
  },
  {
   "cell_type": "code",
   "execution_count": null,
   "metadata": {},
   "outputs": [],
   "source": []
  }
 ],
 "metadata": {
  "kernelspec": {
   "display_name": "Python 3",
   "language": "python",
   "name": "python3"
  },
  "language_info": {
   "codemirror_mode": {
    "name": "ipython",
    "version": 3
   },
   "file_extension": ".py",
   "mimetype": "text/x-python",
   "name": "python",
   "nbconvert_exporter": "python",
   "pygments_lexer": "ipython3",
   "version": "3.7.6"
  }
 },
 "nbformat": 4,
 "nbformat_minor": 1
}
